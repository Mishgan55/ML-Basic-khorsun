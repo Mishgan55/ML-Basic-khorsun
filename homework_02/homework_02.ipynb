{
 "cells": [
  {
   "metadata": {},
   "cell_type": "markdown",
   "source": "# Домашнее задание: Управляющие конструкции",
   "id": "1e8dd319d1460e87"
  },
  {
   "metadata": {},
   "cell_type": "markdown",
   "source": [
    "## Задание 1: Получение однозначного числа\n",
    "\n",
    "Пользователь вводит целое число, программа складывает все цифры числа, с полученным числом — то же самое, и так до тех пор, пока не получится однозначное число.\n",
    "\n",
    "<br>\n",
    "\n",
    "**Примеры:**\n",
    "* `545   -> 5`\n",
    "* `12345 -> 6`"
   ],
   "id": "19a15b2315c9efa7"
  },
  {
   "metadata": {},
   "cell_type": "code",
   "outputs": [],
   "execution_count": null,
   "source": [
    "\n",
    "num = str(input())\n",
    "\n",
    "summa = 0\n",
    "\n",
    "while len(num) > 1:\n",
    "  for i in num:\n",
    "    summa += int(i)\n",
    "  num = str(summa)\n",
    "  summa = 0\n",
    "\n",
    "print(num)"
   ],
   "id": "5fd9c020e6aeab15"
  },
  {
   "metadata": {},
   "cell_type": "markdown",
   "source": [
    "## Задание 2: Кинотеатр\n",
    "\n",
    "Дан список списков, каждый вложенный список состоит из 1 и 0, количество вложенных списков — количество рядов. Пользователь вводит, сколько билетов ему требуется. Программа должна найти ряд, где можно приобрести нужное количество билетов (места должны быть рядом). Если таких рядов несколько, то ближайший к экрану (ближайшим считается нулевой ряд). Если таких мест нет, то вывести False.\n",
    "\n",
    "<br>\n",
    "\n",
    "**Примеры:**\n",
    "* `[[0,1,1,0], [1,0,0,0], [0,1,0,0]], 2 -> 1`\n",
    "* `[[0,1,1,0], [1,0,1,0], [1,1,0,1]], 2 -> False`"
   ],
   "id": "5b67584d36dfa68b"
  },
  {
   "metadata": {
    "ExecuteTime": {
     "end_time": "2025-08-20T12:52:09.006794Z",
     "start_time": "2025-08-20T12:51:56.689553Z"
    }
   },
   "cell_type": "code",
   "source": [
    "import ast\n",
    "\n",
    "seats = ast.literal_eval(input(\"Введите список мест (например [[0,1,1,0], [1,0,0,0]]): \"))\n",
    "k = int(input(\"Сколько билетов нужно? \"))\n",
    "\n",
    "if_seats = False\n",
    "index = 0\n",
    "for row_index, row in enumerate(seats):\n",
    "  count = 0\n",
    "  if if_seats:\n",
    "    print(row_index - 1)\n",
    "    break\n",
    "  for j in row:\n",
    "\n",
    "    if j == 0:\n",
    "      count += 1\n",
    "    else:\n",
    "      count = 0\n",
    "    if count == k:\n",
    "      if_seats = True\n",
    "      break\n",
    "\n",
    "if not if_seats:\n",
    "  print(False)\n",
    "\n",
    "\n"
   ],
   "id": "5fa03ff40b801f42",
   "outputs": [
    {
     "name": "stdout",
     "output_type": "stream",
     "text": [
      "1\n"
     ]
    }
   ],
   "execution_count": 26
  },
  {
   "metadata": {},
   "cell_type": "markdown",
   "source": [
    "## Задание 3: Алгоритм RLE\n",
    "\n",
    "Необходимо написать упрощенную версию алгоритма RLE. \n",
    "Алгоритм RLE объединяет подряд идущие символы в коэффициент и символ.\n",
    "\n",
    "<br>\n",
    "\n",
    "**Примеры:**\n",
    "* `asssdddsssddd -> 1a3s3d3s3d`\n",
    "* `aaabbbbccccc  -> 3a4b5c`\n",
    "* `abcba         -> 1a1b1c1b1a`"
   ],
   "id": "8ca23c1f5fec7e32"
  },
  {
   "metadata": {},
   "cell_type": "code",
   "outputs": [],
   "execution_count": null,
   "source": [
    "num = str(input())\n",
    "\n",
    "result = ''\n",
    "count = 1\n",
    "for i in range(1, len(num) + 1):\n",
    "  if i < len(num) and num[i] == num[i - 1]:\n",
    "    count += 1\n",
    "  else:\n",
    "    result += str(count) + num[i - 1]\n",
    "    count = 1\n",
    "print(result)"
   ],
   "id": "2ff11456b24be986"
  },
  {
   "metadata": {},
   "cell_type": "markdown",
   "source": [
    "## Задание 4: Шифр Цезаря\n",
    "\n",
    "Реализуйте программу для шифрования текста с помощью шифра Цезаря.  \n",
    "Шифр Цезаря — это метод шифрования, при котором каждая буква в тексте заменяется буквой, стоящей на фиксированное число позиций дальше в алфавите.\n",
    "\n",
    "### Требования\n",
    "1. Программа должна принимать на вход:\n",
    "   - Строку текста для шифрования\n",
    "   - Ключ шифра (число от 0 до 25)\n",
    "\n",
    "2. Правила шифрования:\n",
    "   - Шифруются только латинские буквы (a-z, A-Z)\n",
    "   - Сохраняется регистр букв (заглавные остаются заглавными)\n",
    "   - Пробелы, цифры и знаки препинания остаются без изменений\n",
    "   - Сдвиг циклический (после 'z' идет 'a', после 'Z' идет 'A')\n",
    "\n",
    "### Примеры\n",
    "\n",
    "* `\"Hello World\", 3      -> \"Khoor Zruog\"`\n",
    "* `\"Python is great!\", 5 -> \"Udymts nx lwjfy!\"`\n",
    "* `\"XYZ abc\", 3          -> \"ABC def\"`\n",
    "* `\"Test 123\", 1         -> \"Uftu 123\"`\n",
    "\n",
    "### Алгоритм\n",
    "* Для каждого символа в строке:\n",
    "   - Если это латинская буква, найти её позицию в алфавите\n",
    "   - Добавить к позиции значение ключа\n",
    "   - Если результат больше 25, использовать остаток от деления на 26\n",
    "   - Преобразовать обратно в букву, сохранив регистр\n",
    "   - Если это не буква, оставить символ без изменений\n"
   ],
   "id": "21f5fa06837ca420"
  },
  {
   "metadata": {},
   "cell_type": "code",
   "outputs": [],
   "execution_count": null,
   "source": [
    "text = input(\"Введите строку: \")\n",
    "shift = int(input(\"Введите сдвиг: \"))\n",
    "\n",
    "result = ''\n",
    "alphabet = 'abcdefghijklmnopqrstuvwxyz'\n",
    "dct = {}\n",
    "for i, k in enumerate(alphabet):\n",
    "  dct[str(i)] = k\n",
    "\n",
    "for i in text:\n",
    "  if i.isspace() or i.isalpha() == False:\n",
    "    result += i\n",
    "    continue\n",
    "\n",
    "  dct_pos = alphabet.index(i.lower()) + shift\n",
    "  if dct_pos >= 25:\n",
    "    dct_pos = dct_pos % 26\n",
    "\n",
    "  if i.isupper():\n",
    "    result += dct.get(str(dct_pos)).upper()\n",
    "  else:\n",
    "    result += dct.get(str(dct_pos))\n",
    "print(result)"
   ],
   "id": "8116ec6816c1299e"
  },
  {
   "metadata": {},
   "cell_type": "markdown",
   "source": [
    "## Задание 5: Табель успеваемости\n",
    "\n",
    "Пользователь в бесконечном цикле (пока не будет введена пустая строка) вводит строки вида: 'название предмета' 'фамилия ученика' 'оценка'. После окончания ввода программа выводит в консоль название предмета, далее список учеников и все их оценки в виде таблицы.\n",
    "\n",
    "<br>\n",
    "\n",
    "**Примеры:**\n",
    "\n",
    "<br>\n",
    "\n",
    "*Ввод:*\n",
    "```python\n",
    "Математика Иванов  5\n",
    "Математика Иванов  4\n",
    "Литература Иванов  3\n",
    "Математика Петров  5\n",
    "Литература Сидоров 3\n",
    "Литература Петров  5\n",
    "Литература Иванов  4\n",
    "Математика Сидоров 3\n",
    "Математика Петров  5\n",
    "```\n",
    "\n",
    "<br>\n",
    "\n",
    "*Результат:*\n",
    "```python\n",
    "Математика # вводим название предмета\n",
    "\n",
    "# выводим список учеников и их оценки\n",
    "Иванов  5 4\n",
    "Петров  5 5\n",
    "Сидоров 3\n",
    "```\n",
    "\n",
    "```python\n",
    "Литература # вводим название предмета\n",
    "\n",
    "# выводим список учеников и их оценки\n",
    "Иванов  3 4\n",
    "Сидоров 3\n",
    "Петров  5\n",
    "```"
   ],
   "id": "d0734796bc548b37"
  },
  {
   "metadata": {},
   "cell_type": "code",
   "outputs": [],
   "execution_count": null,
   "source": [
    "result = {}\n",
    "\n",
    "while True:\n",
    "  input_str = input(\"Введите 'название предмета' 'фамилия ученика' 'оценка' (Enter для выхода): \")\n",
    "  if input_str == '':\n",
    "    break\n",
    "\n",
    "  subject, surname, grade = input_str.split()\n",
    "\n",
    "  if subject not in result:\n",
    "    result[subject] = {}\n",
    "\n",
    "  if surname not in result[subject]:\n",
    "    result[subject][surname] = []\n",
    "\n",
    "  result[subject][surname].append(grade)\n",
    "\n",
    "subject_search = input(\"Введите название предмета для поиска: \")\n",
    "\n",
    "if subject_search in result:\n",
    "  for surname, grades in result[subject_search].items():\n",
    "    print(f\"{surname} {' '.join(grades)}\")\n",
    "else:\n",
    "  print(\"Нет данных по этому предмету\")\n"
   ],
   "id": "bffb972299f89915"
  }
 ],
 "metadata": {
  "kernelspec": {
   "display_name": ".venv (3.11.12)",
   "language": "python",
   "name": "python3"
  },
  "language_info": {
   "codemirror_mode": {
    "name": "ipython",
    "version": 3
   },
   "file_extension": ".py",
   "mimetype": "text/x-python",
   "name": "python",
   "nbconvert_exporter": "python",
   "pygments_lexer": "ipython3",
   "version": "3.11.12"
  }
 },
 "nbformat": 4,
 "nbformat_minor": 5
}
