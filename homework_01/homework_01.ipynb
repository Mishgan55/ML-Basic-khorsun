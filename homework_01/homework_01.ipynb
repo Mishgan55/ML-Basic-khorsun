{
 "cells": [
  {
   "cell_type": "markdown",
   "id": "8955a739",
   "metadata": {},
   "source": [
    "# Домашнее задание: Базовые типы данных\n",
    "\n"
   ]
  },
  {
   "cell_type": "markdown",
   "id": "d4e67b86",
   "metadata": {},
   "source": [
    "## Задание 1: Зеркальное отражение цифр\n",
    "\n",
    "Пользователь вводит пятизначное число. Программа должна зеркально отразить три центральные цифры. Первая и последняя остаются на местах.\n",
    "\n",
    "<br>\n",
    "\n",
    "**Примеры:**\n",
    "* `23456 -> 25436`\n",
    "* `30789 -> 38709`"
   ]
  },
  {
   "cell_type": "code",
   "id": "5a4d665d",
   "metadata": {
    "ExecuteTime": {
     "end_time": "2025-08-12T12:25:37.074713Z",
     "start_time": "2025-08-12T12:25:34.186869Z"
    }
   },
   "source": [
    "\n",
    "first = str(input())\n",
    "\n",
    "get_middle = first[1:len(first)-1]\n",
    "reversed_middle =  get_middle[::-1]\n",
    "print(first.replace(get_middle, reversed_middle))"
   ],
   "outputs": [
    {
     "name": "stdout",
     "output_type": "stream",
     "text": [
      "14325\n"
     ]
    }
   ],
   "execution_count": 5
  },
  {
   "cell_type": "markdown",
   "id": "00b9578b",
   "metadata": {},
   "source": [
    "## Задание 2: Подсчет выходных до отпуска\n",
    "\n",
    "Пользователь вводит сколько дней осталось до ближайшего отпуска. Программа должна вывести количество выходных дней до отпуска, если учесть, что выходные это суббота и воскресенье, сегодня понедельник и праздники мы не учитываем.  \n",
    "\n",
    "<br>\n",
    "\n",
    "**Примеры:**\n",
    "* `4  -> 0`\n",
    "* `6  -> 1`\n",
    "* `14 -> 4`"
   ]
  },
  {
   "cell_type": "code",
   "id": "07154103",
   "metadata": {
    "ExecuteTime": {
     "end_time": "2025-08-12T12:25:30.966901Z",
     "start_time": "2025-08-12T12:25:29.610708Z"
    }
   },
   "source": [
    "n = int(input())\n",
    "if n < 0:\n",
    "    print(0)\n",
    "else:\n",
    "    full_weeks = n // 7\n",
    "    weekends = full_weeks * 2\n",
    "\n",
    "    remainder_weekends = n % 7\n",
    "    if remainder_weekends >= 5:\n",
    "        weekends += 1\n",
    "    if remainder_weekends > 6:\n",
    "        weekends += 1\n",
    "\n",
    "    print(weekends)"
   ],
   "outputs": [
    {
     "name": "stdout",
     "output_type": "stream",
     "text": [
      "0\n"
     ]
    }
   ],
   "execution_count": 4
  },
  {
   "cell_type": "markdown",
   "id": "cdde282c",
   "metadata": {},
   "source": [
    "## Задание 3: Плитка шоколада\n",
    "\n",
    "Пользователь вводит длину и ширину плитки шоколада, а также размер куска, который хочет отломить. Программа должна вычислить - можно ли совершить подобный разлом или нет, если учесть, что ломать можно только по прямой.\n",
    "\n",
    "<br>\n",
    "\n",
    "**Примеры:**\n",
    "* `3, 4, 6  -> True`\n",
    "* `5, 7, 8  -> False`\n",
    "* `4, 5, 12 -> True`"
   ]
  },
  {
   "cell_type": "code",
   "id": "70f3324c",
   "metadata": {
    "ExecuteTime": {
     "end_time": "2025-08-12T12:25:25.663054Z",
     "start_time": "2025-08-12T12:25:20.965865Z"
    }
   },
   "source": [
    "input_3 = str(input())\n",
    "\n",
    "splited = input_3.strip().split(',')\n",
    "\n",
    "l = int(splited[0])\n",
    "w = int(splited[1])\n",
    "n = int(splited[2])\n",
    "\n",
    "if l * w < n :\n",
    "    print('False')\n",
    "elif n%l == 0 or n%w == 0:\n",
    "    print('True')\n",
    "else:\n",
    "    print('False')\n",
    "\n"
   ],
   "outputs": [
    {
     "name": "stdout",
     "output_type": "stream",
     "text": [
      "True\n"
     ]
    }
   ],
   "execution_count": 3
  },
  {
   "cell_type": "markdown",
   "id": "6470efc1",
   "metadata": {},
   "source": [
    "## Задание 4: Римские числа\n",
    "\n",
    "Пользователь вводит целое положительное число, программа должна вернуть строку в виде римского числа.\n",
    "\n",
    "<br>\n",
    "\n",
    "**Примеры:**\n",
    "* `3   -> III`\n",
    "* `15  -> XV`\n",
    "* `234 -> CCXXXIV`"
   ]
  },
  {
   "cell_type": "code",
   "id": "8686127c",
   "metadata": {
    "ExecuteTime": {
     "end_time": "2025-08-12T12:25:17.261750Z",
     "start_time": "2025-08-12T12:25:16.007570Z"
    }
   },
   "source": [
    "num = int(input())\n",
    "\n",
    "roman = \"\"\n",
    "\n",
    "if num >= 1000:\n",
    "    count = num // 1000\n",
    "    roman += \"M\" * count\n",
    "    num = num - 1000 * count\n",
    "\n",
    "if num >= 900:\n",
    "    roman += \"CM\"\n",
    "    num -= 900\n",
    "\n",
    "if num >= 500:\n",
    "    roman += \"D\"\n",
    "    num -= 500\n",
    "\n",
    "if num >= 400:\n",
    "    roman += \"CD\"\n",
    "    num -= 400\n",
    "\n",
    "if num >= 100:\n",
    "    count = num // 100\n",
    "    roman += \"C\" * count\n",
    "    num = num - 100 * count\n",
    "\n",
    "if num >= 90:\n",
    "    roman += \"XC\"\n",
    "    num -= 90\n",
    "\n",
    "if num >= 50:\n",
    "    roman += \"L\"\n",
    "    num -= 50\n",
    "\n",
    "if num >= 40:\n",
    "    roman += \"XL\"\n",
    "    num -= 40\n",
    "\n",
    "if num >= 10:\n",
    "    count = num // 10\n",
    "    roman += \"X\" * count\n",
    "    num = num - 10 * count\n",
    "\n",
    "if num >= 9:\n",
    "    roman += \"IX\"\n",
    "    num -= 9\n",
    "\n",
    "if num >= 5:\n",
    "    roman += \"V\"\n",
    "    num -= 5\n",
    "\n",
    "if num >= 4:\n",
    "    roman += \"IV\"\n",
    "    num -= 4\n",
    "\n",
    "if num >= 1:\n",
    "    roman += \"I\" * num\n",
    "    num = 0\n",
    "\n",
    "print(roman)\n"
   ],
   "outputs": [
    {
     "name": "stdout",
     "output_type": "stream",
     "text": [
      "III\n"
     ]
    }
   ],
   "execution_count": 2
  },
  {
   "cell_type": "markdown",
   "id": "ca6a4c0a",
   "metadata": {},
   "source": [
    "## Задание 5: Проверка на вещественное число\n",
    "\n",
    "Пользователь вводит данные, проверить - являются ли они положительным вещественным числом. Не использовать встроенные функции для проверки, только методы данных и конструкцию IF. (Дополнительное задание, по желанию - проверка на отрицательные вещественные числа)\n",
    "\n",
    "<br>\n",
    "\n",
    "**Примеры:**\n",
    "* `5.6  -> True`\n",
    "* `.78  -> True`\n",
    "* `.67. -> False`\n",
    "* `5    -> True`"
   ]
  },
  {
   "cell_type": "code",
   "id": "74e39179",
   "metadata": {
    "ExecuteTime": {
     "end_time": "2025-08-12T12:25:09.680381Z",
     "start_time": "2025-08-12T12:25:04.397451Z"
    }
   },
   "source": [
    "\n",
    "input_5 =str(input())\n",
    "\n",
    "count_dot = input_5.count('.')\n",
    "\n",
    "if count_dot > 1:\n",
    "    print('False')\n",
    "else:\n",
    "    if '.' in input_5:\n",
    "        if float(input_5) > 0:\n",
    "            print('True')\n",
    "        else:\n",
    "            print('False')\n",
    "    else:\n",
    "        if int(input_5) > 0:\n",
    "            print('True')\n",
    "        else:\n",
    "            print('False')"
   ],
   "outputs": [
    {
     "name": "stdout",
     "output_type": "stream",
     "text": [
      "True\n"
     ]
    }
   ],
   "execution_count": 1
  }
 ],
 "metadata": {
  "kernelspec": {
   "display_name": ".venv (3.11.12)",
   "language": "python",
   "name": "python3"
  },
  "language_info": {
   "name": "python",
   "version": "3.11.12"
  }
 },
 "nbformat": 4,
 "nbformat_minor": 5
}
